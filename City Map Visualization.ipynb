{
 "cells": [
  {
   "cell_type": "code",
   "execution_count": null,
   "id": "4cb30fbc-4618-42e4-a949-61423fc44781",
   "metadata": {
    "scrolled": true
   },
   "outputs": [],
   "source": [
    "pip install pandas folium"
   ]
  },
  {
   "cell_type": "code",
   "execution_count": null,
   "id": "005671ee-872f-44fb-bdc6-1cd6c41340a6",
   "metadata": {},
   "outputs": [],
   "source": [
    "# Import pandas (needed to create the CSV)\n",
    "import pandas as pd\n",
    "\n",
    "# Create the city locations data as a list of dictionaries\n",
    "city_data = [\n",
    "    {\"name\": \"India Gate\", \"latitude\": 28.6129, \"longitude\": 77.2295, \"category\": \"Landmark\"},\n",
    "    {\"name\": \"Red Fort\", \"latitude\": 28.6562, \"longitude\": 77.2410, \"category\": \"Landmark\"},\n",
    "    {\"name\": \"Qutub Minar\", \"latitude\": 28.5245, \"longitude\": 77.1855, \"category\": \"Landmark\"},\n",
    "    {\"name\": \"Apollo Hospital\", \"latitude\": 28.5402, \"longitude\": 77.2837, \"category\": \"Hospital\"},\n",
    "    {\"name\": \"AIIMS Delhi\", \"latitude\": 28.5672, \"longitude\": 77.2100, \"category\": \"Hospital\"},\n",
    "]\n",
    "\n",
    "# Convert the list of dictionaries to a pandas DataFrame\n",
    "df = pd.DataFrame(city_data)\n",
    "\n",
    "# Save the DataFrame to a CSV file in the current working directory\n",
    "df.to_csv(\"city_locations.csv\", index=False)\n",
    "\n",
    "# Verify that the file was created\n",
    "import os\n",
    "print(\"Current working directory:\", os.getcwd())\n",
    "print(\"Files in directory:\", os.listdir())\n",
    "print(\"File 'city_locations.csv' created successfully!\")"
   ]
  },
  {
   "cell_type": "code",
   "execution_count": null,
   "id": "fb65a116-0f22-4eaa-9a69-21c67a447bb9",
   "metadata": {},
   "outputs": [],
   "source": [
    "# Load the city locations data\n",
    "data = pd.read_csv(\"city_locations.csv\")\n",
    "\n",
    "# Display the dataset\n",
    "print(\"City Locations Dataset:\")\n",
    "print(data)"
   ]
  },
  {
   "cell_type": "code",
   "execution_count": null,
   "id": "2348877b-718e-4ead-97e6-0f91aee4eead",
   "metadata": {},
   "outputs": [],
   "source": [
    "# Import required libraries\n",
    "import pandas as pd\n",
    "import folium"
   ]
  },
  {
   "cell_type": "code",
   "execution_count": null,
   "id": "d1155fff-3feb-41f6-b6e2-f5ae86f5c2cf",
   "metadata": {},
   "outputs": [],
   "source": [
    "# Create a map centered on Delhi\n",
    "delhi_map = folium.Map(location=[28.6139, 77.2090], zoom_start=12)\n",
    "\n",
    "# Add markers for each location\n",
    "for index, row in data.iterrows():\n",
    "    # Customize the marker color based on category\n",
    "    color = \"blue\" if row['category'] == \"Landmark\" else \"red\"\n",
    "    folium.Marker(\n",
    "        location=[row['latitude'], row['longitude']],\n",
    "        popup=f\"{row['name']} ({row['category']})\",\n",
    "        icon=folium.Icon(color=color)\n",
    "    ).add_to(delhi_map)\n",
    "\n",
    "# Display the map\n",
    "delhi_map"
   ]
  },
  {
   "cell_type": "code",
   "execution_count": null,
   "id": "36ec2386-eed5-46e4-8082-67e33e5bc15b",
   "metadata": {},
   "outputs": [],
   "source": [
    "# Save the map to an HTML file\n",
    "delhi_map.save(\"delhi_map.html\")\n",
    "print(\"Map saved as 'delhi_map.html'. Open it in a browser to view.\")"
   ]
  }
 ],
 "metadata": {
  "kernelspec": {
   "display_name": "Python 3 (ipykernel)",
   "language": "python",
   "name": "python3"
  },
  "language_info": {
   "codemirror_mode": {
    "name": "ipython",
    "version": 3
   },
   "file_extension": ".py",
   "mimetype": "text/x-python",
   "name": "python",
   "nbconvert_exporter": "python",
   "pygments_lexer": "ipython3",
   "version": "3.11.0rc2"
  }
 },
 "nbformat": 4,
 "nbformat_minor": 5
}
